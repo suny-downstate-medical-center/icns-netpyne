{
 "cells": [
  {
   "cell_type": "markdown",
   "metadata": {},
   "source": [
    "# RAGP PN Model : Batch Simulations"
   ]
  },
  {
   "cell_type": "markdown",
   "metadata": {},
   "source": [
    "## Run 'devmakej'\n",
    "\n",
    "1. Added devmakej to .zshrc/.bashrc"
   ]
  },
  {
   "cell_type": "raw",
   "metadata": {},
   "source": [
    "alias devmakej='\n",
    "printf \"Creating NetPyNE development environment\\n\"\n",
    "printf \"========================================\\n\\n\"\n",
    "printf \"clearing path\\n\"\n",
    "printf \"----------------------------------------\\n\"\n",
    "export PATH=/bin:/usr/bin\n",
    "printf \"----------------------------------------\\n\\n\"\n",
    "printf \"creating virtual environment\\n\"\n",
    "python3 -m venv env\n",
    "printf \"----------------------------------------\\n\\n\"\n",
    "printf \"activating virtual environment\\n\"\n",
    "source env/bin/activate\n",
    "printf \"----------------------------------------\\n\\n\"\n",
    "printf \"updating pip\\n\"\n",
    "python3 -m pip install --upgrade pip\n",
    "printf \"----------------------------------------\\n\\n\"\n",
    "printf \"installing ipython\\n\"\n",
    "python3 -m pip install --upgrade ipython\n",
    "printf \"----------------------------------------\\n\\n\"\n",
    "printf \"installing mpi4py\\n\"\n",
    "python3 -m pip install --upgrade mpi4py\n",
    "printf \"----------------------------------------\\n\\n\"\n",
    "printf \"installing ipykernel\\n\"\n",
    "python3 -m pip install --upgrade ipykernel\n",
    "printf \"----------------------------------------\\n\\n\"\n",
    "printf \"installing jupyter\\n\"\n",
    "python3 -m pip install --upgrade jupyter\n",
    "printf \"----------------------------------------\\n\\n\"\n",
    "printf \"installing neuron\\n\\n\"\n",
    "python3 -m pip install --upgrade neuron\n",
    "printf \"----------------------------------------\\n\\n\"\n",
    "printf \"cloning netpyne repo\\n\"\n",
    "git clone https://github.com/Neurosim-lab/netpyne.git\n",
    "printf \"----------------------------------------\\n\\n\"\n",
    "printf \"installing netpyne\\n\"\n",
    "python3 -m pip install -e netpyne\n",
    "printf \"----------------------------------------\\n\\n\"\n",
    "printf \"========================================\\n\"\n",
    "printf \"NetPyNE development environment complete\\n\\n\"'"
   ]
  },
  {
   "cell_type": "markdown",
   "metadata": {},
   "source": [
    "2. Open New Terminal - REMEMBER\n",
    "3. Make a working directory (cd Desktop; mkdir wdir; cd wdir)\n",
    "4. Run 'devmakej'\n",
    "5. git clone ...icns-netpyne\n",
    "6. Run 'jupyter notebook pn_batch.ipynb' "
   ]
  },
  {
   "cell_type": "markdown",
   "metadata": {},
   "source": [
    "Git Commands:\n",
    "    1. git clone (first time only)\n",
    "    2. git pull - to get the latest version\n",
    "    3. git status\n",
    "    4. git add <filename>\n",
    "    5. git status\n",
    "    5. git commit -m 'your msg here'\n",
    "    6. git push\n",
    "    7. git diff - differences between local version and repo version\n",
    "    8. git restore - to revert back\n",
    "Before pushing to Github: Kernel - Restart & Clear Output - Save\n",
    "Always git pull before starting work    "
   ]
  },
  {
   "cell_type": "code",
   "execution_count": null,
   "metadata": {},
   "outputs": [],
   "source": [
    "ls"
   ]
  },
  {
   "cell_type": "code",
   "execution_count": null,
   "metadata": {},
   "outputs": [],
   "source": []
  }
 ],
 "metadata": {
  "kernelspec": {
   "display_name": "Python 3",
   "language": "python",
   "name": "python3"
  },
  "language_info": {
   "codemirror_mode": {
    "name": "ipython",
    "version": 3
   },
   "file_extension": ".py",
   "mimetype": "text/x-python",
   "name": "python",
   "nbconvert_exporter": "python",
   "pygments_lexer": "ipython3",
   "version": "3.8.3"
  }
 },
 "nbformat": 4,
 "nbformat_minor": 4
}
